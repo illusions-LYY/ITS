{
 "cells": [
  {
   "cell_type": "code",
   "execution_count": 2,
   "metadata": {},
   "outputs": [],
   "source": [
    "import pandas as pd\n",
    "import time\n",
    "from gensim.models import KeyedVectors"
   ]
  },
  {
   "cell_type": "code",
   "execution_count": 3,
   "metadata": {},
   "outputs": [],
   "source": [
    "model = KeyedVectors.load('/Users/shen-pc/Desktop/WORK/ITS/My idea/vectors.kv')"
   ]
  },
  {
   "cell_type": "code",
   "execution_count": 7,
   "metadata": {
    "scrolled": false
   },
   "outputs": [
    {
     "data": {
      "text/html": [
       "<div>\n",
       "<style scoped>\n",
       "    .dataframe tbody tr th:only-of-type {\n",
       "        vertical-align: middle;\n",
       "    }\n",
       "\n",
       "    .dataframe tbody tr th {\n",
       "        vertical-align: top;\n",
       "    }\n",
       "\n",
       "    .dataframe thead th {\n",
       "        text-align: right;\n",
       "    }\n",
       "</style>\n",
       "<table border=\"1\" class=\"dataframe\">\n",
       "  <thead>\n",
       "    <tr style=\"text-align: right;\">\n",
       "      <th></th>\n",
       "      <th>body</th>\n",
       "      <th>explains</th>\n",
       "      <th>merge</th>\n",
       "      <th>together</th>\n",
       "      <th>cut</th>\n",
       "      <th>goal</th>\n",
       "      <th>nums</th>\n",
       "    </tr>\n",
       "    <tr>\n",
       "      <th>id</th>\n",
       "      <th></th>\n",
       "      <th></th>\n",
       "      <th></th>\n",
       "      <th></th>\n",
       "      <th></th>\n",
       "      <th></th>\n",
       "      <th></th>\n",
       "    </tr>\n",
       "  </thead>\n",
       "  <tbody>\n",
       "    <tr>\n",
       "      <th>0</th>\n",
       "      <td>已知直角三角形的两条直角边长分别是$6$，$ \\sqrt{10} $，则斜边长为（$\\:\\:...</td>\n",
       "      <td>{\"{\\\"body\\\": \\\"斜边长$= \\\\\\\\sqrt{6 ^2+( \\\\\\\\sqrt{...</td>\n",
       "      <td>已知直角三角形的边长比解决问题,勾股定理,勾股定理,勾股定理</td>\n",
       "      <td>已知直角三角形的两条直角边长分别是$6$，$ \\sqrt{10} $，则斜边长为（$\\:\\:...</td>\n",
       "      <td>已知 直角三角形 两条 直角边 长 斜边 长为 斜边 长 已知 直角三角形 边长 解决问题 ...</td>\n",
       "      <td>已知直角三角形的边长比解决问题</td>\n",
       "      <td>0</td>\n",
       "    </tr>\n",
       "    <tr>\n",
       "      <th>1</th>\n",
       "      <td>$-3.782(\\:\\:\\:)$</td>\n",
       "      <td>{\"{\\\"body\\\": \\\"$-3.782$符号为负,是负数 \\\\n又是有限小数,是有理数...</td>\n",
       "      <td>数的分类,有理数,有理数,有理数</td>\n",
       "      <td>$-3.782(\\:\\:\\:)${\"{\\\"body\\\": \\\"$-3.782$符号为负,是负...</td>\n",
       "      <td>符号 负 负数 有限小数 有理数 属于 分数 负数 分数 数 分类 有理数 有理数 有理数</td>\n",
       "      <td>数的分类</td>\n",
       "      <td>1</td>\n",
       "    </tr>\n",
       "    <tr>\n",
       "      <th>2</th>\n",
       "      <td>如图，$ \\triangle ABC$中，$B ^\\prime $、$C ^\\prime $...</td>\n",
       "      <td>{\"{\\\"body\\\": \\\"$ \\\\\\\\because \\\\\\\\angle CC ^\\\\\\...</td>\n",
       "      <td>相似三角形的性质,相似三角形的性质,相似,相似三角形</td>\n",
       "      <td>如图，$ \\triangle ABC$中，$B ^\\prime $、$C ^\\prime $...</td>\n",
       "      <td>如图 triangle 中 点 angle angle triangle triangle ...</td>\n",
       "      <td>相似三角形的性质</td>\n",
       "      <td>2</td>\n",
       "    </tr>\n",
       "    <tr>\n",
       "      <th>3</th>\n",
       "      <td>有一种投球游戏，将球投入下图所示的阴影区域记为“投中”，且投中一次得$20$分$.$狗蛋儿投...</td>\n",
       "      <td>{\"{\\\"body\\\": \\\"狗蛋儿投掷$5$次的位置，即图中 红色 阴影的部分 \\\\n只有...</td>\n",
       "      <td>有序数对中的新定义问题,有序数对,平面直角坐标系,平面直角坐标系</td>\n",
       "      <td>有一种投球游戏，将球投入下图所示的阴影区域记为“投中”，且投中一次得$20$分$.$狗蛋儿投...</td>\n",
       "      <td>一种 投球 游戏 将球 投入 下图 所示 阴影 区域 记 投中 投中 一次 分 狗蛋 投掷 ...</td>\n",
       "      <td>有序数对中的新定义问题</td>\n",
       "      <td>3</td>\n",
       "    </tr>\n",
       "    <tr>\n",
       "      <th>4</th>\n",
       "      <td>解方程$5(3x-1)-2(x-1)=49$，得$x=$____.</td>\n",
       "      <td>{\"{\\\"body\\\": \\\"$15x-5-2x+2=49$ \\\\n$15x-2x=49-2...</td>\n",
       "      <td>去括号解一元一次方程,去括号与去分母,一元一次方程,解一元一次方程（二）——去括号与去分母</td>\n",
       "      <td>解方程$5(3x-1)-2(x-1)=49$，得$x=$____.{\"{\\\"body\\\": ...</td>\n",
       "      <td>解方程 去括号 解 一元一次方程 去括号 去分母 一元一次方程 解 一元一次方程 去括号 去分母</td>\n",
       "      <td>去括号解一元一次方程</td>\n",
       "      <td>4</td>\n",
       "    </tr>\n",
       "  </tbody>\n",
       "</table>\n",
       "</div>"
      ],
      "text/plain": [
       "                                                 body  \\\n",
       "id                                                      \n",
       "0   已知直角三角形的两条直角边长分别是$6$，$ \\sqrt{10} $，则斜边长为（$\\:\\:...   \n",
       "1                                    $-3.782(\\:\\:\\:)$   \n",
       "2   如图，$ \\triangle ABC$中，$B ^\\prime $、$C ^\\prime $...   \n",
       "3   有一种投球游戏，将球投入下图所示的阴影区域记为“投中”，且投中一次得$20$分$.$狗蛋儿投...   \n",
       "4                   解方程$5(3x-1)-2(x-1)=49$，得$x=$____.   \n",
       "\n",
       "                                             explains  \\\n",
       "id                                                      \n",
       "0   {\"{\\\"body\\\": \\\"斜边长$= \\\\\\\\sqrt{6 ^2+( \\\\\\\\sqrt{...   \n",
       "1   {\"{\\\"body\\\": \\\"$-3.782$符号为负,是负数 \\\\n又是有限小数,是有理数...   \n",
       "2   {\"{\\\"body\\\": \\\"$ \\\\\\\\because \\\\\\\\angle CC ^\\\\\\...   \n",
       "3   {\"{\\\"body\\\": \\\"狗蛋儿投掷$5$次的位置，即图中 红色 阴影的部分 \\\\n只有...   \n",
       "4   {\"{\\\"body\\\": \\\"$15x-5-2x+2=49$ \\\\n$15x-2x=49-2...   \n",
       "\n",
       "                                            merge  \\\n",
       "id                                                  \n",
       "0                  已知直角三角形的边长比解决问题,勾股定理,勾股定理,勾股定理   \n",
       "1                                数的分类,有理数,有理数,有理数   \n",
       "2                      相似三角形的性质,相似三角形的性质,相似,相似三角形   \n",
       "3                有序数对中的新定义问题,有序数对,平面直角坐标系,平面直角坐标系   \n",
       "4   去括号解一元一次方程,去括号与去分母,一元一次方程,解一元一次方程（二）——去括号与去分母   \n",
       "\n",
       "                                             together  \\\n",
       "id                                                      \n",
       "0   已知直角三角形的两条直角边长分别是$6$，$ \\sqrt{10} $，则斜边长为（$\\:\\:...   \n",
       "1   $-3.782(\\:\\:\\:)${\"{\\\"body\\\": \\\"$-3.782$符号为负,是负...   \n",
       "2   如图，$ \\triangle ABC$中，$B ^\\prime $、$C ^\\prime $...   \n",
       "3   有一种投球游戏，将球投入下图所示的阴影区域记为“投中”，且投中一次得$20$分$.$狗蛋儿投...   \n",
       "4   解方程$5(3x-1)-2(x-1)=49$，得$x=$____.{\"{\\\"body\\\": ...   \n",
       "\n",
       "                                                  cut             goal  nums  \n",
       "id                                                                            \n",
       "0   已知 直角三角形 两条 直角边 长 斜边 长为 斜边 长 已知 直角三角形 边长 解决问题 ...  已知直角三角形的边长比解决问题     0  \n",
       "1      符号 负 负数 有限小数 有理数 属于 分数 负数 分数 数 分类 有理数 有理数 有理数              数的分类     1  \n",
       "2   如图 triangle 中 点 angle angle triangle triangle ...         相似三角形的性质     2  \n",
       "3   一种 投球 游戏 将球 投入 下图 所示 阴影 区域 记 投中 投中 一次 分 狗蛋 投掷 ...      有序数对中的新定义问题     3  \n",
       "4   解方程 去括号 解 一元一次方程 去括号 去分母 一元一次方程 解 一元一次方程 去括号 去分母        去括号解一元一次方程     4  "
      ]
     },
     "execution_count": 7,
     "metadata": {},
     "output_type": "execute_result"
    }
   ],
   "source": [
    "data = pd.read_csv('/Users/shen-pc/Desktop/WORK/ITS/My idea/jieba_cut.csv',index_col='id')\n",
    "data.head()"
   ]
  },
  {
   "cell_type": "markdown",
   "metadata": {},
   "source": [
    "### 根据题目句向量直接聚类尝试"
   ]
  },
  {
   "cell_type": "code",
   "execution_count": null,
   "metadata": {},
   "outputs": [],
   "source": []
  }
 ],
 "metadata": {
  "kernelspec": {
   "display_name": "Python 3",
   "language": "python",
   "name": "python3"
  },
  "language_info": {
   "codemirror_mode": {
    "name": "ipython",
    "version": 3
   },
   "file_extension": ".py",
   "mimetype": "text/x-python",
   "name": "python",
   "nbconvert_exporter": "python",
   "pygments_lexer": "ipython3",
   "version": "3.6.8"
  }
 },
 "nbformat": 4,
 "nbformat_minor": 2
}
