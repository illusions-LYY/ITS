{
 "cells": [
  {
   "cell_type": "code",
   "execution_count": 1,
   "metadata": {},
   "outputs": [],
   "source": [
    "import jieba\n",
    "import re\n",
    "import pandas as pd\n",
    "from gensim.models import doc2vec"
   ]
  },
  {
   "cell_type": "code",
   "execution_count": 2,
   "metadata": {},
   "outputs": [],
   "source": [
    "def purify(s, r_h):\n",
    "    \"\"\"\n",
    "    专门用于清理HTML标签，得出我们想要的处理后的题目\n",
    "    param s: 待处理字符串\n",
    "    param r_h: HTML标签集合\n",
    "    return: 删除HTML标签后的字符串\n",
    "    \"\"\"\n",
    "    for e in r_h:\n",
    "        s = s.replace(e, ' ')\n",
    "    return s\n"
   ]
  },
  {
   "cell_type": "code",
   "execution_count": 3,
   "metadata": {},
   "outputs": [],
   "source": [
    "def data_proc(data):\n",
    "    \"\"\"\n",
    "    文本前处理：HTML标签删除、斜率截距等关键词\n",
    "    param data: DataFrame，必含有body和explains列\n",
    "    return: 处理过HTML、替换一部分关键词后的body和explains列\n",
    "    \"\"\"\n",
    "    qqq = data['body'] + ' [内容分隔] ' + data['explains']\n",
    "    bd_ex = ''\n",
    "    for i in qqq:\n",
    "        i = i + ' [题目分隔] '\n",
    "        bd_ex += i\n",
    "    # 将全部题目文本连接成一个长字符串，便于正则直接处理、替换，不做重复事情（可以优化写成同步的）\n",
    "    pattern_html = re.compile(r'<[^(0-9)][^(<,>,，,$)]*>')\n",
    "    # 开头第一位是“<”，第二位不能是数字，紧接着匹配任意次的任意字符，但不可以是(<,>,，,$)，最后末尾匹配“>”\n",
    "    result_html = pattern_html.findall(bd_ex)\n",
    "    trash = ['< \\\\\\\\\\\\\\\\frac{a+1}{2} \\\\\\\\\\\\\\\\\\\\\\\\\\\\\\\\ x>',\n",
    "             '< \\\\\\\\\\\\\\\\frac{m+1}{2} \\\\\\\\\\\\\\\\\\\\\\\\\\\\\\\\ x>',\n",
    "             '< \\\\\\\\\\\\\\\\frac{m+4}{2} \\\\\\\\\\\\\\\\\\\\\\\\\\\\\\\\ x>',\n",
    "             '<-1\\\\\\\\5x-2b>',\n",
    "             '<-1\\\\\\\\\\\\\\\\\\\\\\\\\\\\\\\\5x-2b>',\n",
    "             '<\\\\\\\\\\\\\\\\frac{a+2}{3} \\\\\\\\\\\\\\\\\\\\\\\\\\\\\\\\ x>',\n",
    "             '<\\\\\\\\\\\\\\\\frac{a-1}{4} \\\\\\\\\\\\\\\\\\\\\\\\\\\\\\\\ x>',\n",
    "             '<a+1\\\\\\\\\\\\\\\\\\\\\\\\\\\\\\\\ x>',\n",
    "             '<a+4\\\\\\\\\\\\\\\\\\\\\\\\\\\\\\\\ x>',\n",
    "             '<m+2\\\\\\\\\\\\\\\\\\\\\\\\\\\\\\\\ x>',\n",
    "             '<m-6\\\\\\\\\\\\\\\\\\\\\\\\\\\\\\\\ x>',\n",
    "             '<m-7\\\\\\\\\\\\\\\\\\\\\\\\\\\\\\\\ x>',\n",
    "             '<m-9 \\\\\\\\\\\\\\\\\\\\\\\\\\\\\\\\ x>']\n",
    "    # 这些是匹配到的非HTML标签，不管也罢，最终分词终究被删除\n",
    "    r_html = sorted(set(result_html))\n",
    "    res_html = sorted(set(r_html) - set(trash))  # 最终的全部HTML标签\n",
    "    bd_ex_proc = purify(bd_ex, res_html).split(' [题目分隔] ')  # 按照题目分隔将题目分开\n",
    "    bd_ex_proc = bd_ex_proc.pop()\n",
    "    proc_data = pd.Series(bd_ex_proc)\n",
    "\n",
    "    b_ = []\n",
    "    e_ = []\n",
    "    for idx, item in enumerate(proc_data):\n",
    "        b_e = item.split(' [内容分隔] ')\n",
    "        b_.append(b_e[0])\n",
    "        e_.append(b_e[1])\n",
    "    # 按照【内容分隔】将body、explains分开\n",
    "    data['body'] = pd.Series(b_)\n",
    "    data['explains'] = pd.Series(e_)\n",
    "    return data"
   ]
  },
  {
   "cell_type": "code",
   "execution_count": 4,
   "metadata": {},
   "outputs": [],
   "source": [
    "data = pd.read_csv('/Users/shen-pc/Desktop/WORK/ITS/KR2/LSD_data/problem_0528.csv')"
   ]
  },
  {
   "cell_type": "code",
   "execution_count": 11,
   "metadata": {},
   "outputs": [
    {
     "ename": "IndexError",
     "evalue": "list index out of range",
     "output_type": "error",
     "traceback": [
      "\u001b[0;31m---------------------------------------------------------------------------\u001b[0m",
      "\u001b[0;31mIndexError\u001b[0m                                Traceback (most recent call last)",
      "\u001b[0;32m<ipython-input-11-6c8f08bc6378>\u001b[0m in \u001b[0;36m<module>\u001b[0;34m\u001b[0m\n\u001b[1;32m      1\u001b[0m \u001b[0;32mimport\u001b[0m \u001b[0mtime\u001b[0m\u001b[0;34m\u001b[0m\u001b[0;34m\u001b[0m\u001b[0m\n\u001b[1;32m      2\u001b[0m \u001b[0mt1\u001b[0m \u001b[0;34m=\u001b[0m \u001b[0mtime\u001b[0m\u001b[0;34m.\u001b[0m\u001b[0mtime\u001b[0m\u001b[0;34m(\u001b[0m\u001b[0;34m)\u001b[0m\u001b[0;34m\u001b[0m\u001b[0;34m\u001b[0m\u001b[0m\n\u001b[0;32m----> 3\u001b[0;31m \u001b[0mdata_proc\u001b[0m\u001b[0;34m(\u001b[0m\u001b[0mdata\u001b[0m\u001b[0;34m)\u001b[0m\u001b[0;34m\u001b[0m\u001b[0;34m\u001b[0m\u001b[0m\n\u001b[0m\u001b[1;32m      4\u001b[0m \u001b[0mprint\u001b[0m\u001b[0;34m(\u001b[0m\u001b[0;34m'处理HTML耗时'\u001b[0m\u001b[0;34m,\u001b[0m\u001b[0;34m(\u001b[0m\u001b[0mtime\u001b[0m\u001b[0;34m.\u001b[0m\u001b[0mtime\u001b[0m\u001b[0;34m(\u001b[0m\u001b[0;34m)\u001b[0m\u001b[0;34m-\u001b[0m\u001b[0mt1\u001b[0m\u001b[0;34m)\u001b[0m\u001b[0;34m/\u001b[0m\u001b[0;36m60\u001b[0m\u001b[0;34m,\u001b[0m\u001b[0;34m'min'\u001b[0m\u001b[0;34m)\u001b[0m\u001b[0;34m\u001b[0m\u001b[0;34m\u001b[0m\u001b[0m\n",
      "\u001b[0;32m<ipython-input-3-f336333fcfd2>\u001b[0m in \u001b[0;36mdata_proc\u001b[0;34m(data)\u001b[0m\n\u001b[1;32m     39\u001b[0m         \u001b[0mb_e\u001b[0m \u001b[0;34m=\u001b[0m \u001b[0mitem\u001b[0m\u001b[0;34m.\u001b[0m\u001b[0msplit\u001b[0m\u001b[0;34m(\u001b[0m\u001b[0;34m' [内容分隔] '\u001b[0m\u001b[0;34m)\u001b[0m\u001b[0;34m\u001b[0m\u001b[0;34m\u001b[0m\u001b[0m\n\u001b[1;32m     40\u001b[0m         \u001b[0mb_\u001b[0m\u001b[0;34m.\u001b[0m\u001b[0mappend\u001b[0m\u001b[0;34m(\u001b[0m\u001b[0mb_e\u001b[0m\u001b[0;34m[\u001b[0m\u001b[0;36m0\u001b[0m\u001b[0;34m]\u001b[0m\u001b[0;34m)\u001b[0m\u001b[0;34m\u001b[0m\u001b[0;34m\u001b[0m\u001b[0m\n\u001b[0;32m---> 41\u001b[0;31m         \u001b[0me_\u001b[0m\u001b[0;34m.\u001b[0m\u001b[0mappend\u001b[0m\u001b[0;34m(\u001b[0m\u001b[0mb_e\u001b[0m\u001b[0;34m[\u001b[0m\u001b[0;36m1\u001b[0m\u001b[0;34m]\u001b[0m\u001b[0;34m)\u001b[0m\u001b[0;34m\u001b[0m\u001b[0;34m\u001b[0m\u001b[0m\n\u001b[0m\u001b[1;32m     42\u001b[0m     \u001b[0;31m# 按照【内容分隔】将body、explains分开\u001b[0m\u001b[0;34m\u001b[0m\u001b[0;34m\u001b[0m\u001b[0;34m\u001b[0m\u001b[0m\n\u001b[1;32m     43\u001b[0m     \u001b[0mdata\u001b[0m\u001b[0;34m[\u001b[0m\u001b[0;34m'body'\u001b[0m\u001b[0;34m]\u001b[0m \u001b[0;34m=\u001b[0m \u001b[0mpd\u001b[0m\u001b[0;34m.\u001b[0m\u001b[0mSeries\u001b[0m\u001b[0;34m(\u001b[0m\u001b[0mb_\u001b[0m\u001b[0;34m)\u001b[0m\u001b[0;34m\u001b[0m\u001b[0;34m\u001b[0m\u001b[0m\n",
      "\u001b[0;31mIndexError\u001b[0m: list index out of range"
     ]
    }
   ],
   "source": [
    "import time\n",
    "t1 = time.time()\n",
    "data_proc(data)\n",
    "print('处理HTML耗时',(time.time()-t1)/60,'min')"
   ]
  },
  {
   "cell_type": "code",
   "execution_count": null,
   "metadata": {},
   "outputs": [],
   "source": []
  }
 ],
 "metadata": {
  "kernelspec": {
   "display_name": "Python 3",
   "language": "python",
   "name": "python3"
  },
  "language_info": {
   "codemirror_mode": {
    "name": "ipython",
    "version": 3
   },
   "file_extension": ".py",
   "mimetype": "text/x-python",
   "name": "python",
   "nbconvert_exporter": "python",
   "pygments_lexer": "ipython3",
   "version": "3.6.8"
  }
 },
 "nbformat": 4,
 "nbformat_minor": 2
}
